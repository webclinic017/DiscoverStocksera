{
 "cells": [
  {
   "cell_type": "code",
   "execution_count": 47,
   "metadata": {
    "execution": {
     "iopub.execute_input": "2022-03-12T14:29:54.574712Z",
     "iopub.status.busy": "2022-03-12T14:29:54.573911Z",
     "iopub.status.idle": "2022-03-12T14:30:12.605534Z",
     "shell.execute_reply": "2022-03-12T14:30:12.604484Z",
     "shell.execute_reply.started": "2022-03-12T14:29:54.574677Z"
    }
   },
   "outputs": [],
   "source": [
    "!pip install stocksera\n",
    "!pip install yfinance"
   ]
  },
  {
   "cell_type": "code",
   "execution_count": 48,
   "metadata": {
    "execution": {
     "iopub.execute_input": "2022-03-12T14:30:12.608040Z",
     "iopub.status.busy": "2022-03-12T14:30:12.607770Z",
     "iopub.status.idle": "2022-03-12T14:30:12.613335Z",
     "shell.execute_reply": "2022-03-12T14:30:12.612306Z",
     "shell.execute_reply.started": "2022-03-12T14:30:12.608010Z"
    }
   },
   "outputs": [],
   "source": [
    "import stocksera\n",
    "import yfinance as yf\n",
    "import matplotlib.pyplot as plt\n",
    "import seaborn as sns\n",
    "from datetime import datetime"
   ]
  },
  {
   "cell_type": "code",
   "execution_count": 49,
   "metadata": {
    "execution": {
     "iopub.execute_input": "2022-03-12T14:30:12.615415Z",
     "iopub.status.busy": "2022-03-12T14:30:12.615077Z",
     "iopub.status.idle": "2022-03-12T14:30:13.191182Z",
     "shell.execute_reply": "2022-03-12T14:30:13.190098Z",
     "shell.execute_reply.started": "2022-03-12T14:30:12.615371Z"
    }
   },
   "outputs": [],
   "source": [
    "discover = stocksera.Discover()\n",
    "\n",
    "df = discover.jim_cramer()\n",
    "df"
   ]
  },
  {
   "cell_type": "code",
   "execution_count": 50,
   "metadata": {
    "execution": {
     "iopub.execute_input": "2022-03-12T14:30:13.193355Z",
     "iopub.status.busy": "2022-03-12T14:30:13.193117Z",
     "iopub.status.idle": "2022-03-12T14:30:13.211417Z",
     "shell.execute_reply": "2022-03-12T14:30:13.210686Z",
     "shell.execute_reply.started": "2022-03-12T14:30:13.193325Z"
    }
   },
   "outputs": [],
   "source": [
    "count_df = df.groupby(\"Ticker\").agg({\"Call\": \"count\"}).sort_values(by=\"Call\", ascending=False)\n",
    "count_df.reset_index(inplace=True)\n",
    "count_df.head(10)"
   ]
  },
  {
   "cell_type": "code",
   "execution_count": 51,
   "metadata": {
    "execution": {
     "iopub.execute_input": "2022-03-12T14:30:13.212487Z",
     "iopub.status.busy": "2022-03-12T14:30:13.212276Z",
     "iopub.status.idle": "2022-03-12T14:30:13.222806Z",
     "shell.execute_reply": "2022-03-12T14:30:13.221606Z",
     "shell.execute_reply.started": "2022-03-12T14:30:13.212461Z"
    }
   },
   "outputs": [],
   "source": [
    "def get_stock_data(ticker_selected):\n",
    "    ticker_df = df[df[\"Ticker\"] == ticker_selected]\n",
    "    \n",
    "    history_df = yf.Ticker(ticker_selected).history(period=\"1y\", interval=\"1d\")\n",
    "    history_df.reset_index(inplace=True)\n",
    "    history_df[\"Date\"] = history_df[\"Date\"].astype(str)\n",
    "\n",
    "    latest_price = history_df.iloc[-1][\"Close\"]\n",
    "    ticker_df = ticker_df.merge(history_df, on=\"Date\")\n",
    "    ticker_df[\"Pro Cramer\"] = latest_price\n",
    "    ticker_df[\"Pro Cramer\"] = 100 * (ticker_df[\"Pro Cramer\"] - ticker_df[\"Close\"]) / ticker_df[\"Close\"]\n",
    "    ticker_df.loc[ticker_df[\"Call\"].isin([\"Negative\", \"Sell\"]), 'Pro Cramer'] *= -1\n",
    "    avg_return = round(ticker_df[\"Pro Cramer\"].mean(), 2)\n",
    "    return ticker_df, history_df, avg_return"
   ]
  },
  {
   "cell_type": "code",
   "execution_count": 52,
   "metadata": {
    "execution": {
     "iopub.execute_input": "2022-03-12T14:30:14.284824Z",
     "iopub.status.busy": "2022-03-12T14:30:14.284529Z",
     "iopub.status.idle": "2022-03-12T14:30:14.289882Z",
     "shell.execute_reply": "2022-03-12T14:30:14.288938Z",
     "shell.execute_reply.started": "2022-03-12T14:30:14.284790Z"
    }
   },
   "outputs": [],
   "source": [
    "palette ={\"Buy\": \"green\", \"Positive\": \"yellow\", \"Hold\": \"grey\", \"Negative\": \"orange\", \"Sell\": \"red\"}"
   ]
  },
  {
   "cell_type": "code",
   "execution_count": 54,
   "metadata": {
    "execution": {
     "iopub.execute_input": "2022-03-12T14:31:52.019487Z",
     "iopub.status.busy": "2022-03-12T14:31:52.018796Z",
     "iopub.status.idle": "2022-03-12T14:32:36.877654Z",
     "shell.execute_reply": "2022-03-12T14:32:36.876783Z",
     "shell.execute_reply.started": "2022-03-12T14:31:52.019421Z"
    }
   },
   "outputs": [],
   "source": [
    "list_of_tickers = count_df[\"Ticker\"].head(40).tolist()\n",
    "fig, axes = plt.subplots(10, 4, sharex=True, figsize=(35,45))\n",
    "fig.suptitle(f\"Jim Cramer Stocks Recommendations Performance Compiled by Stocksera as of {str(datetime.utcnow().date())}\", fontsize=30)\n",
    "\n",
    "row_num = 0\n",
    "col_num = 0\n",
    "for index, ticker in enumerate(list_of_tickers):\n",
    "    ticker_df, history_df, avg_return = get_stock_data(ticker)\n",
    "    \n",
    "    axes[row_num, col_num].set_title(f\"{ticker} ({avg_return}%)\", fontsize=15, weight=\"bold\")\n",
    "    sns.lineplot(ax=axes[row_num, col_num], data=history_df, x=\"Date\", y=\"Close\", color=\"black\", linewidth=0.5, alpha=0.7)\n",
    "    sns.scatterplot(ax=axes[row_num, col_num], data=ticker_df, x=\"Date\", y=\"Close\", hue=\"Call\", palette=palette)  # style=\"Call\"\n",
    "    \n",
    "    for dir in [\"left\", \"right\", \"top\", \"bottom\"]:\n",
    "        axes[row_num, col_num].spines[dir].set_linewidth(2)\n",
    "        axes[row_num, col_num].spines[dir].set_color(\"red\" if avg_return < 0 else \"green\")\n",
    "        axes[row_num, col_num].legend(title=\"\")\n",
    "        # axes[row_num, col_num].get_legend().remove()\n",
    "    \n",
    "    col_num += 1\n",
    "    if col_num == 4:\n",
    "        row_num += 1\n",
    "        col_num = 0\n",
    "        \n",
    "plt.xticks(range(0, len(history_df), 50))\n",
    "fig.tight_layout(rect=[0, 0.03, 1, 0.97])  \n",
    "fig.show()\n",
    "plt.savefig(\"jim_cramer.png\")"
   ]
  },
  {
   "cell_type": "code",
   "execution_count": null,
   "metadata": {},
   "outputs": [],
   "source": []
  }
 ],
 "metadata": {
  "kernelspec": {
   "display_name": "Python 3",
   "language": "python",
   "name": "python3"
  },
  "language_info": {
   "codemirror_mode": {
    "name": "ipython",
    "version": 3
   },
   "file_extension": ".py",
   "mimetype": "text/x-python",
   "name": "python",
   "nbconvert_exporter": "python",
   "pygments_lexer": "ipython3",
   "version": "3.8.5"
  }
 },
 "nbformat": 4,
 "nbformat_minor": 4
}
